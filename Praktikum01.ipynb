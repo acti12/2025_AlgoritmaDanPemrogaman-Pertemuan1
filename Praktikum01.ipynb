{
  "nbformat": 4,
  "nbformat_minor": 0,
  "metadata": {
    "colab": {
      "provenance": [],
      "authorship_tag": "ABX9TyN43iuMUCHo2mDiZmvSDUSR",
      "include_colab_link": true
    },
    "kernelspec": {
      "name": "python3",
      "display_name": "Python 3"
    },
    "language_info": {
      "name": "python"
    }
  },
  "cells": [
    {
      "cell_type": "markdown",
      "metadata": {
        "id": "view-in-github",
        "colab_type": "text"
      },
      "source": [
        "<a href=\"https://colab.research.google.com/github/acti12/2025_AlgoritmaDanPemrogaman-Pertemuan1/blob/main/Praktikum01.ipynb\" target=\"_parent\"><img src=\"https://colab.research.google.com/assets/colab-badge.svg\" alt=\"Open In Colab\"/></a>"
      ]
    },
    {
      "cell_type": "markdown",
      "source": [
        "# Praktikum 1 : Menghitung Luas Persegi Panjang"
      ],
      "metadata": {
        "id": "J3en9HWj2e5Z"
      }
    },
    {
      "cell_type": "code",
      "execution_count": null,
      "metadata": {
        "colab": {
          "base_uri": "https://localhost:8080/"
        },
        "id": "RsYCtC4N10KF",
        "outputId": "936e032b-82bd-4a9a-da30-40e9efc3e7d1"
      },
      "outputs": [
        {
          "output_type": "stream",
          "name": "stdout",
          "text": [
            "Masukkan Panjang :  5\n",
            "Masukkan Lebar :  5\n",
            "Luas Persegi Panjang = 25\n"
          ]
        }
      ],
      "source": [
        "p = int(input(\"Masukkan Panjang :  \"))\n",
        "l = int(input(\"Masukkan Lebar :  \"))\n",
        "luas = p * l\n",
        "print(\"Luas Persegi Panjang =\", luas)"
      ]
    },
    {
      "cell_type": "markdown",
      "source": [
        "# Praktikum 2 : Menghitung Luas Segitiga\n"
      ],
      "metadata": {
        "id": "gczh_yo49PvX"
      }
    },
    {
      "cell_type": "code",
      "source": [
        "import math\n",
        "\n",
        "a = float(input(\"Masukkan sisi a: \"))\n",
        "b = float(input(\"Masukkan sisi b: \"))\n",
        "c = float(input(\"Masukkan sisi c: \"))\n",
        "\n",
        "s = (a + b + c) / 2\n",
        "luas = math.sqrt(s * (s - a) * (s - b) * (s - c))\n",
        "print(\"Luas segitiga =\", luas)"
      ],
      "metadata": {
        "colab": {
          "base_uri": "https://localhost:8080/"
        },
        "id": "5mO9G7iq9L3V",
        "outputId": "7be874a6-7c98-4508-975d-e62e0c5302b2"
      },
      "execution_count": null,
      "outputs": [
        {
          "output_type": "stream",
          "name": "stdout",
          "text": [
            "Masukkan sisi a: 20\n",
            "Masukkan sisi b: 20\n",
            "Masukkan sisi c: 20\n",
            "Luas segitiga = 173.20508075688772\n"
          ]
        }
      ]
    },
    {
      "cell_type": "markdown",
      "source": [
        "# Praktikum 3 : Konversi Suhu Celcius ke Fahrenheit"
      ],
      "metadata": {
        "id": "womLt6gx-TQB"
      }
    },
    {
      "cell_type": "code",
      "source": [
        "c = float(input(\"Masukkan suhu (°C) : \"))\n",
        "f = (c * 9/5) + 32\n",
        "print(\"Hasil Konversi =\", f, \"°F\")"
      ],
      "metadata": {
        "colab": {
          "base_uri": "https://localhost:8080/"
        },
        "id": "wfuCzu-q-RgE",
        "outputId": "8099efba-2dbb-44fc-d990-ac055cc0ad53"
      },
      "execution_count": null,
      "outputs": [
        {
          "output_type": "stream",
          "name": "stdout",
          "text": [
            "Masukkan suhu (°C) : 50\n",
            "Hasil Konversi = 122.0 °F\n"
          ]
        }
      ]
    },
    {
      "cell_type": "markdown",
      "source": [
        "# Praktikum 4 : Menghitung Umur Berdasarkan Tanggal Lahir"
      ],
      "metadata": {
        "id": "4OeQ-XpQ-s0L"
      }
    },
    {
      "cell_type": "code",
      "source": [
        "tahun_lahir = int(input(\"Masukkan tahun lahir: \"))\n",
        "tahun_sekarang = 2025\n",
        "umur = tahun_sekarang - tahun_lahir\n",
        "print(\"Umur anda =\", umur, \"tahun\")"
      ],
      "metadata": {
        "colab": {
          "base_uri": "https://localhost:8080/"
        },
        "id": "SbL-ui9S-q4D",
        "outputId": "cfef53e9-0a22-410b-8269-21647b5362c4"
      },
      "execution_count": null,
      "outputs": [
        {
          "output_type": "stream",
          "name": "stdout",
          "text": [
            "Masukkan tahun lahir: 2006\n",
            "Umur anda = 19 tahun\n"
          ]
        }
      ]
    },
    {
      "cell_type": "markdown",
      "source": [
        "# Praktikum 5 : Menghitung Luas Lingkaran"
      ],
      "metadata": {
        "id": "TAAF_FAI_gXp"
      }
    },
    {
      "cell_type": "code",
      "source": [
        "import math\n",
        "r = float(input(\"Masukkan jari-jari lingkaran: \"))\n",
        "luas = math.pi * r * r\n",
        "print(\"Luas lingkaran =\", luas)"
      ],
      "metadata": {
        "colab": {
          "base_uri": "https://localhost:8080/"
        },
        "id": "Ly1rVie6_OH3",
        "outputId": "9342be2f-21e6-4941-f224-e42909959be5"
      },
      "execution_count": null,
      "outputs": [
        {
          "output_type": "stream",
          "name": "stdout",
          "text": [
            "Masukkan jari-jari lingkaran: 5\n",
            "Luas lingkaran = 78.53981633974483\n"
          ]
        }
      ]
    },
    {
      "cell_type": "markdown",
      "source": [
        "# Praktikum 6 : Menjumlahkan Tiga Bilangan"
      ],
      "metadata": {
        "id": "hqPZuOhj_-_X"
      }
    },
    {
      "cell_type": "code",
      "source": [
        "a = int(input(\"Masukkan bilangan pertama : \"))\n",
        "b = int(input(\"Masukkan bilangan kedua : \"))\n",
        "c = int(input(\"Masukkan bilangan ketiga : \"))\n",
        "jumlah = a + b + c\n",
        "print(\"Jumlah =\", jumlah)"
      ],
      "metadata": {
        "id": "D3ChyNQe_9Xt",
        "colab": {
          "base_uri": "https://localhost:8080/"
        },
        "outputId": "e7991d02-e6dc-44b4-d8d1-d6a48a2c48a6"
      },
      "execution_count": null,
      "outputs": [
        {
          "output_type": "stream",
          "name": "stdout",
          "text": [
            "Masukkan bilangan pertama : 1\n",
            "Masukkan bilangan kedua : 2\n",
            "Masukkan bilangan ketiga : 3\n",
            "Jumlah = 6\n"
          ]
        }
      ]
    },
    {
      "cell_type": "markdown",
      "source": [
        "#Penugasan 1 : Menghitung Volume Balok"
      ],
      "metadata": {
        "id": "RhHCdr5FmBPt"
      }
    },
    {
      "cell_type": "code",
      "source": [
        "p = int(input(\"Masukkan panjang balok: \"))\n",
        "l = int(input(\"Masukkan lebar balok: \"))\n",
        "t = int(input(\"Masukkan tinggi balok: \"))\n",
        "\n",
        "V = p * l * t\n",
        "print(\"Volume balok adalah:\", V)"
      ],
      "metadata": {
        "id": "sdUbgMTimFdm",
        "outputId": "35ec19d1-2b6d-4bbe-860d-9c63a1cbe36b",
        "colab": {
          "base_uri": "https://localhost:8080/"
        }
      },
      "execution_count": 1,
      "outputs": [
        {
          "output_type": "stream",
          "name": "stdout",
          "text": [
            "Masukkan panjang balok: 5\n",
            "Masukkan lebar balok: 5\n",
            "Masukkan tinggi balok: 5\n",
            "Volume balok adalah: 125\n"
          ]
        }
      ]
    },
    {
      "cell_type": "markdown",
      "source": [
        "#Penugasan 2 : Konversi Detik"
      ],
      "metadata": {
        "id": "BIZtMUBv04jm"
      }
    },
    {
      "cell_type": "code",
      "source": [
        "total_detik = int(input(\"Masukkan total detik: \"))\n",
        "\n",
        "jam = total_detik // 3600\n",
        "sisa = total_detik % 3600\n",
        "menit = sisa // 60\n",
        "detik = sisa % 60\n",
        "\n",
        "print(f\"Hasil konversi: {jam} jam, {menit} menit, {detik} detik\")"
      ],
      "metadata": {
        "id": "pUG4QQ4N1D_c",
        "outputId": "fbcb4023-6c61-4668-e631-e3986de627b1",
        "colab": {
          "base_uri": "https://localhost:8080/"
        }
      },
      "execution_count": 2,
      "outputs": [
        {
          "output_type": "stream",
          "name": "stdout",
          "text": [
            "Masukkan total detik: 4900\n",
            "Hasil konversi: 1 jam, 21 menit, 40 detik\n"
          ]
        }
      ]
    },
    {
      "cell_type": "markdown",
      "source": [
        "#Penugasan 3 : Rata - Rata Nilai Tiga Mata Kuliah"
      ],
      "metadata": {
        "id": "bFVZn-MH5M3z"
      }
    },
    {
      "cell_type": "code",
      "source": [
        "nilai1 = float(input(\"Masukkan nilai pertama: \"))\n",
        "nilai2 = float(input(\"Masukkan nilai kedua: \"))\n",
        "nilai3 = float(input(\"Masukkan nilai ketiga: \"))\n",
        "\n",
        "rata = (nilai1 + nilai2 + nilai3) / 3\n",
        "\n",
        "print(\"Rata-rata nilai:\", rata)\n",
        "\n",
        "if rata >= 60:\n",
        "    print(\"Keterangan: Lulus\")\n",
        "else:\n",
        "    print(\"Keterangan: Tidak Lulus\")"
      ],
      "metadata": {
        "id": "6g1UHXJK1Gen",
        "outputId": "9b1b60df-bea4-47f8-8264-f73cc90d3609",
        "colab": {
          "base_uri": "https://localhost:8080/"
        }
      },
      "execution_count": 4,
      "outputs": [
        {
          "output_type": "stream",
          "name": "stdout",
          "text": [
            "Masukkan nilai pertama: 90\n",
            "Masukkan nilai kedua: 65\n",
            "Masukkan nilai ketiga: 80\n",
            "Rata-rata nilai: 78.33333333333333\n",
            "Keterangan: Lulus\n"
          ]
        }
      ]
    },
    {
      "cell_type": "markdown",
      "source": [
        "#Penugasan 4 : Nenghitung Diskon Belanja"
      ],
      "metadata": {
        "id": "wgg4rp9x1JQW"
      }
    },
    {
      "cell_type": "code",
      "source": [
        "total_belanja = int(input(\"Masukkan total belanja: Rp \"))\n",
        "\n",
        "if total_belanja >= 500000:\n",
        "    diskon = 0.2\n",
        "elif total_belanja >= 250000:\n",
        "    diskon = 0.1\n",
        "else:\n",
        "    diskon = 0\n",
        "\n",
        "total_bayar = total_belanja - (total_belanja * diskon)\n",
        "print(f\"Total bayar setelah diskon: Rp {total_bayar}\")"
      ],
      "metadata": {
        "id": "ZqJpvX5T_yaX",
        "outputId": "a325fd14-0f08-4df8-e203-07cd7f1f987a",
        "colab": {
          "base_uri": "https://localhost:8080/"
        }
      },
      "execution_count": 5,
      "outputs": [
        {
          "output_type": "stream",
          "name": "stdout",
          "text": [
            "Masukkan total belanja: Rp 350000\n",
            "Total bayar setelah diskon: Rp 315000.0\n"
          ]
        }
      ]
    }
  ]
}